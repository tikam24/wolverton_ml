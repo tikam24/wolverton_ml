{
 "cells": [
  {
   "cell_type": "code",
   "execution_count": 6,
   "id": "1b7a6759-73ae-414b-b057-6eebc2a9c068",
   "metadata": {},
   "outputs": [],
   "source": [
    "from mp_api.client import MPRester\n",
    "\n",
    "# Insert your Materials Project API key here\n",
    "API_KEY = \"DQO0MUOkBZWExJJBirPV1K20IDadzKVJ\"\n",
    "\n",
    "# Initialize MPRester with your API key\n",
    "mpr = MPRester(API_KEY)"
   ]
  },
  {
   "cell_type": "code",
   "execution_count": 7,
   "id": "cc9a1482-7fbb-4775-b25b-ee3dd539392d",
   "metadata": {},
   "outputs": [
    {
     "name": "stdout",
     "output_type": "stream",
     "text": [
      "Error: 403\n"
     ]
    }
   ],
   "source": [
    "import requests\n",
    "\n",
    "def search_materials_project(compound_name):\n",
    "    # Base URL for the Materials Project API\n",
    "    base_url = 'https://www.materialsproject.org/rest/v2/materials'\n",
    "    \n",
    "    # API key (optional)\n",
    "    api_key = 'DQO0MUOkBZWExJJBirPV1K20IDadzKVJ'\n",
    "    \n",
    "    # Request parameters\n",
    "    params = {\n",
    "        'formula': compound_name,\n",
    "        'API_KEY': api_key  # Include your API key if you have one\n",
    "    }\n",
    "    \n",
    "    # Send GET request to search for the compound\n",
    "    response = requests.get(base_url, params=params)\n",
    "    \n",
    "    if response.status_code == 200:\n",
    "        # Parse the JSON response\n",
    "        data = response.json()\n",
    "        \n",
    "        # Check if any results are returned\n",
    "        if data.get('response'):\n",
    "            # Extract information about the first material\n",
    "            material = data['response'][0]\n",
    "            \n",
    "            # Print material details\n",
    "            print(f\"Material ID: {material['task_id']}\")\n",
    "            print(f\"Formula: {material['pretty_formula']}\")\n",
    "            print(f\"Spacegroup: {material['spacegroup']['symbol']}\")\n",
    "            print(f\"Band gap: {material['band_gap']} eV\")\n",
    "            # Add more properties as needed\n",
    "        else:\n",
    "            print(\"Compound not found.\")\n",
    "    else:\n",
    "        print(\"Error:\", response.status_code)\n",
    "\n",
    "# Example compound name to search\n",
    "compound_name = 'MnO2'\n",
    "\n",
    "# Search for the compound in Materials Project and retrieve information\n",
    "search_materials_project(compound_name)\n"
   ]
  },
  {
   "cell_type": "code",
   "execution_count": null,
   "id": "22de68e5-02e9-46a4-9b07-983064dcaf7a",
   "metadata": {},
   "outputs": [],
   "source": []
  }
 ],
 "metadata": {
  "kernelspec": {
   "display_name": "Python 3 (ipykernel)",
   "language": "python",
   "name": "python3"
  },
  "language_info": {
   "codemirror_mode": {
    "name": "ipython",
    "version": 3
   },
   "file_extension": ".py",
   "mimetype": "text/x-python",
   "name": "python",
   "nbconvert_exporter": "python",
   "pygments_lexer": "ipython3",
   "version": "3.10.10"
  }
 },
 "nbformat": 4,
 "nbformat_minor": 5
}
