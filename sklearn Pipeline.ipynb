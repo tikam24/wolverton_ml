{
 "cells": [
  {
   "cell_type": "code",
   "execution_count": 1,
   "id": "d021f78a",
   "metadata": {},
   "outputs": [],
   "source": [
    "# Load sklearn modules\n",
    "from sklearn.pipeline import FeatureUnion, Pipeline\n",
    "from sklearn.base import TransformerMixin, BaseEstimator\n",
    "\n",
    "from sklearn.linear_model import LinearRegression\n",
    "from sklearn.ensemble import RandomForestRegressor\n",
    "from sklearn.svm import SVR, LinearSVR\n",
    "\n",
    "from sklearn.decomposition import PCA, NMF\n",
    "from sklearn.feature_selection import SelectKBest, chi2\n",
    "from sklearn.preprocessing import StandardScaler, MinMaxScaler\n",
    "\n",
    "from sklearn.metrics import mean_squared_error\n",
    "from sklearn.model_selection import RepeatedKFold, cross_val_score, cross_val_predict, train_test_split, GridSearchCV, RandomizedSearchCV\n",
    "\n",
    "import numpy as np\n",
    "from pandas import DataFrame\n",
    "from scipy.stats import randint as sp_randint\n",
    "\n",
    "# Load featurizers and conversion functions\n",
    "from matminer.featurizers.composition import ElementProperty, OxidationStates\n",
    "from matminer.featurizers.structure import DensityFeatures\n",
    "from matminer.featurizers.conversions import CompositionToOxidComposition, StrToComposition"
   ]
  },
  {
   "cell_type": "markdown",
   "id": "1a57af8e",
   "metadata": {},
   "source": [
    "## Load Dataset"
   ]
  },
  {
   "cell_type": "code",
   "execution_count": 2,
   "id": "156f973d",
   "metadata": {},
   "outputs": [
    {
     "name": "stdout",
     "output_type": "stream",
     "text": [
      "Fetching elastic_tensor_2015.json.gz from https://ndownloader.figshare.com/files/13220603 to C:\\Users\\tikam\\AppData\\Local\\Programs\\Python\\Python39\\lib\\site-packages\\matminer\\datasets\\elastic_tensor_2015.json.gz\n"
     ]
    },
    {
     "name": "stderr",
     "output_type": "stream",
     "text": [
      "Fetching https://ndownloader.figshare.com/files/13220603 in MB: 1.1182079999999999MB [00:00, 62.46MB/s]                \n"
     ]
    }
   ],
   "source": [
    "from matminer.datasets.convenience_loaders import load_elastic_tensor\n",
    "df = load_elastic_tensor() # loads dataset in a pandas DataFrame \n",
    "unwanted_columns = [\"volume\", \"nsites\", \"compliance_tensor\", \"elastic_tensor\", \n",
    "                    \"elastic_tensor_original\", \"K_Voigt\", \"G_Voigt\", \"K_Reuss\", \"G_Reuss\"]\n",
    "df = df.drop(unwanted_columns, axis=1)"
   ]
  },
  {
   "cell_type": "code",
   "execution_count": 3,
   "id": "de5c912a",
   "metadata": {},
   "outputs": [],
   "source": [
    "# seperate out values to be estimated\n",
    "y = df['K_VRH'].values"
   ]
  },
  {
   "cell_type": "markdown",
   "id": "30e4e1f0",
   "metadata": {},
   "source": [
    "## Data Preprocessing"
   ]
  },
  {
   "cell_type": "code",
   "execution_count": null,
   "id": "c657c571",
   "metadata": {},
   "outputs": [
    {
     "data": {
      "application/vnd.jupyter.widget-view+json": {
       "model_id": "8254093272194953bb3ae6cf7fbd57f0",
       "version_major": 2,
       "version_minor": 0
      },
      "text/plain": [
       "StrToComposition:   0%|          | 0/1181 [00:00<?, ?it/s]"
      ]
     },
     "metadata": {},
     "output_type": "display_data"
    },
    {
     "data": {
      "application/vnd.jupyter.widget-view+json": {
       "model_id": "c4570fe098be4a0fb6adc71ee5140a8f",
       "version_major": 2,
       "version_minor": 0
      },
      "text/plain": [
       "CompositionToOxidComposition:   0%|          | 0/1181 [00:00<?, ?it/s]"
      ]
     },
     "metadata": {},
     "output_type": "display_data"
    }
   ],
   "source": [
    "df = StrToComposition().featurize_dataframe(df, \"formula\")\n",
    "df = CompositionToOxidComposition().featurize_dataframe(df, \"composition\")"
   ]
  },
  {
   "cell_type": "code",
   "execution_count": null,
   "id": "ef91141c",
   "metadata": {},
   "outputs": [],
   "source": [
    "from matminer.utils.pipeline import DropExcluded, ItemSelector"
   ]
  },
  {
   "cell_type": "markdown",
   "id": "758ae624",
   "metadata": {},
   "source": [
    "## Making Feature union pipeline for featurizers"
   ]
  },
  {
   "cell_type": "code",
   "execution_count": null,
   "id": "e94d436d",
   "metadata": {},
   "outputs": [],
   "source": [
    "# columns to remove before regression\n",
    "excluded = [\"G_VRH\", \"K_VRH\", \"elastic_anisotropy\", \"formula\", \"material_id\", \n",
    "            \"poisson_ratio\", \"structure\", \"composition\", \"composition_oxid\"]\n",
    "\n",
    "# featurization transformations\n",
    "featurizer = FeatureUnion(\n",
    "    transformer_list=[\n",
    "        ('drop', DropExcluded(excluded)),\n",
    "        ('density', Pipeline([\n",
    "            ('select', ItemSelector(\"structure\")),\n",
    "            ('density_feat', DensityFeatures())\n",
    "        ])),\n",
    "        ('element', Pipeline([\n",
    "            ('select', ItemSelector(\"composition\")),\n",
    "            ('oxidation_feat', ElementProperty.from_preset(preset_name=\"magpie\"))\n",
    "        ])),\n",
    "        ('oxidation', Pipeline([\n",
    "            ('select', ItemSelector(\"composition_oxid\")),\n",
    "            ('oxidation_feat', OxidationStates())\n",
    "        ])),\n",
    "    ]\n",
    ")"
   ]
  },
  {
   "cell_type": "markdown",
   "id": "db3be549",
   "metadata": {},
   "source": [
    "## Making a Regression Pipeline"
   ]
  },
  {
   "cell_type": "code",
   "execution_count": null,
   "id": "e53806f4",
   "metadata": {},
   "outputs": [],
   "source": [
    "# make the pipeline\n",
    "pipeline = Pipeline([\n",
    "    ('featurize', featurizer),\n",
    "    ('regress', LinearRegression()),\n",
    "])\n",
    "\n",
    "pipeline.fit(df, y)\n",
    "\n",
    "# get fit statistics\n",
    "print('training R2 = ' + str(round(pipeline.score(df, y), 3)))\n",
    "print('training RMSE = %.3f' % np.sqrt(mean_squared_error(y_true=y, y_pred=pipeline.predict(df))))"
   ]
  },
  {
   "cell_type": "markdown",
   "id": "131c719a",
   "metadata": {},
   "source": [
    "## Making a Random Forest Pipeline"
   ]
  },
  {
   "cell_type": "code",
   "execution_count": null,
   "id": "44f89176",
   "metadata": {},
   "outputs": [],
   "source": [
    "# make the pipeline\n",
    "pipeline = Pipeline([\n",
    "    ('featurize', featurizer),\n",
    "    ('regress', RandomForestRegressor(n_estimators=50, random_state=1)),\n",
    "])\n",
    "\n",
    "pipeline.fit(df, y)\n",
    "\n",
    "# get fit statistics\n",
    "print('training R2 = ' + str(round(pipeline.score(df, y), 3)))\n",
    "print('training RMSE = %.3f' % np.sqrt(mean_squared_error(y_true=y, y_pred=pipeline.predict(df))))"
   ]
  },
  {
   "cell_type": "markdown",
   "id": "da5e5503",
   "metadata": {},
   "source": [
    "## Cross Validation"
   ]
  },
  {
   "cell_type": "code",
   "execution_count": null,
   "id": "e7c88e86",
   "metadata": {},
   "outputs": [],
   "source": [
    "X = featurizer.transform(df)"
   ]
  },
  {
   "cell_type": "code",
   "execution_count": null,
   "id": "c0c0b291",
   "metadata": {},
   "outputs": [],
   "source": [
    "crossvalidation = RepeatedKFold(n_splits=5, n_repeats=3, random_state=1)"
   ]
  },
  {
   "cell_type": "code",
   "execution_count": null,
   "id": "53972fcc",
   "metadata": {},
   "outputs": [],
   "source": [
    "lr = LinearRegression()\n",
    "\n",
    "scores = cross_val_score(lr, X, y, scoring='neg_mean_squared_error', cv=crossvalidation, n_jobs=1)\n",
    "rmse_scores = [np.sqrt(abs(s)) for s in scores]\n",
    "r2_scores = cross_val_score(lr, X, y, scoring='r2', cv=crossvalidation, n_jobs=1)\n",
    "\n",
    "print('Cross-validation results:')\n",
    "print('Folds: %i, mean R2: %.3f' % (len(scores), np.mean(np.abs(r2_scores))))\n",
    "print('Folds: %i, mean RMSE: %.3f' % (len(scores), np.mean(np.abs(rmse_scores))))"
   ]
  },
  {
   "cell_type": "code",
   "execution_count": null,
   "id": "8c59e6e4",
   "metadata": {},
   "outputs": [],
   "source": [
    "# compute cross validation scores for random forest model\n",
    "rf = RandomForestRegressor(n_estimators=50, random_state=1)\n",
    "\n",
    "r2_scores = cross_val_score(rf, X, y, scoring='r2', cv=crossvalidation, n_jobs=1)\n",
    "scores = cross_val_score(rf, X, y, scoring='neg_mean_squared_error', cv=crossvalidation, n_jobs=1)\n",
    "rmse_scores = [np.sqrt(abs(s)) for s in scores]\n",
    "\n",
    "print('Cross-validation results:')\n",
    "print('Folds: %i, mean R2: %.3f' % (len(scores), np.mean(np.abs(r2_scores))))\n",
    "print('Folds: %i, mean RMSE: %.3f' % (len(scores), np.mean(np.abs(rmse_scores))))"
   ]
  },
  {
   "cell_type": "markdown",
   "id": "d860af36",
   "metadata": {},
   "source": [
    "## Model Selection with Grid Search"
   ]
  },
  {
   "cell_type": "code",
   "execution_count": null,
   "id": "d1e911a9",
   "metadata": {},
   "outputs": [],
   "source": [
    "X_train, X_test, y_train, y_test = train_test_split(X, y, test_size=0.2, random_state=100)"
   ]
  },
  {
   "cell_type": "code",
   "execution_count": null,
   "id": "51475ac0",
   "metadata": {},
   "outputs": [],
   "source": [
    "rf = RandomForestRegressor(n_estimators=50, random_state=1)\n",
    "param_grid = [\n",
    "  {'n_estimators': [10,15,20,25,30,50,100]},\n",
    "]\n",
    "gs = GridSearchCV(rf, param_grid, n_jobs=4, cv=5)\n",
    "gs.fit(X_train, y_train)\n",
    "print(gs.best_score_)\n",
    "print(gs.best_params_)\n",
    "print(gs.score(X_test, y_test))"
   ]
  },
  {
   "cell_type": "markdown",
   "id": "822f59ca",
   "metadata": {},
   "source": [
    "## Random Seerch"
   ]
  },
  {
   "cell_type": "code",
   "execution_count": null,
   "id": "5a2e6d7e",
   "metadata": {},
   "outputs": [],
   "source": [
    "pipe = Pipeline([\n",
    "    ('scale', StandardScaler()),\n",
    "    ('regress', RandomForestRegressor(random_state=1)), \n",
    "])\n",
    "\n",
    "param_dist = {'regress__n_estimators': sp_randint(10,150)}\n",
    "\n",
    "gs = RandomizedSearchCV(pipe, param_dist, cv=crossvalidation, n_jobs=-1)\n",
    "gs.fit(X_train, y_train)\n",
    "\n",
    "print('best crossval score ' + str(round(gs.best_score_, 3)))\n",
    "print('best params ' + str(gs.best_params_))\n",
    "\n",
    "# get fit statistics\n",
    "print('training R2 = ' + str(round(gs.score(X_train, y_train), 3)))\n",
    "print('training RMSE = %.3f' % np.sqrt(mean_squared_error(y_true=y_train, y_pred=gs.predict(X_train))))\n",
    "print('test R2 = ' + str(round(gs.score(X_test, y_test), 3)))\n",
    "print('test RMSE = %.3f' % np.sqrt(mean_squared_error(y_true=y_test, y_pred=gs.predict(X_test))))"
   ]
  },
  {
   "cell_type": "code",
   "execution_count": null,
   "id": "ac4b0871",
   "metadata": {},
   "outputs": [],
   "source": []
  }
 ],
 "metadata": {
  "kernelspec": {
   "display_name": "Python 3 (ipykernel)",
   "language": "python",
   "name": "python3"
  },
  "language_info": {
   "codemirror_mode": {
    "name": "ipython",
    "version": 3
   },
   "file_extension": ".py",
   "mimetype": "text/x-python",
   "name": "python",
   "nbconvert_exporter": "python",
   "pygments_lexer": "ipython3",
   "version": "3.10.10"
  }
 },
 "nbformat": 4,
 "nbformat_minor": 5
}
